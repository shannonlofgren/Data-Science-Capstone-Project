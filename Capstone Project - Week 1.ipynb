{
    "nbformat_minor": 1, 
    "cells": [
        {
            "source": "# Capstone Project - Week 1", 
            "cell_type": "markdown", 
            "metadata": {
                "collapsed": true
            }
        }, 
        {
            "source": "**Clearly define a problem or an idea of your choice, where you would need to leverage the Foursquare location data to solve or execute:**\n\nYou want to open a new Ice Cream Shop in Chicago, where your focus market will be families with young children. Due to the high crime rate in Chicago, it is important that you open the ice cream shop in a community where the community has a high safety score. As you do not want to limit your location possibitilies, you will consider the 5 communities with the highest safety score. To determine of these 5 communities where you will locate your ice cream shop, we will examine the current level of supply in the neighborhood, in other words, the number of competitors. If this is high, the likelihood is lower to start the business in this neighbourhood.\n\nOverall, this will ensure that we are able to set up our business in a community that 1) is safe, especially considering the young target market and 2) has a market gap that we can fill.", 
            "cell_type": "markdown", 
            "metadata": {}
        }, 
        {
            "source": "**Describe the data that you will be using to solve the problem or execute your idea**\n\nThree types of data will be used in order to complete this analysis:\n1. **A governmental dataset called 'CHICAGO_PUBLIC_SCHOOLS',** which includes all columns such as school name, community name, zipcode, geospatial coordinates, safety score, etc. The safety score will be an average of all safety scores within that zipcode. This dataset will be used to determine the 5 communities with the highest safety score of which we will focus on.\n2. **Geograpical coordinates** using Folium: Used in order to plot the zipcodes onto the map. This will help determine if any outliers exist, i.e. zipcodes that are extremely far from the rest. These will be removed from the potential locations.\n3. **Foursquare data:** This data will be used to determine the most common venues of each zipcode. This will help to see whether there are any gaps in the zipcode area in which demand for an ice cream shop is not being met.", 
            "cell_type": "markdown", 
            "metadata": {}
        }, 
        {
            "execution_count": null, 
            "cell_type": "code", 
            "metadata": {}, 
            "outputs": [], 
            "source": ""
        }
    ], 
    "metadata": {
        "kernelspec": {
            "display_name": "Python 3.5", 
            "name": "python3", 
            "language": "python"
        }, 
        "language_info": {
            "mimetype": "text/x-python", 
            "nbconvert_exporter": "python", 
            "version": "3.5.5", 
            "name": "python", 
            "file_extension": ".py", 
            "pygments_lexer": "ipython3", 
            "codemirror_mode": {
                "version": 3, 
                "name": "ipython"
            }
        }
    }, 
    "nbformat": 4
}